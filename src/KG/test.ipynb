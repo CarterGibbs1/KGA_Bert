{
 "cells": [
  {
   "cell_type": "code",
   "execution_count": 2,
   "metadata": {},
   "outputs": [],
   "source": [
    "import pandas as pd\n",
    "import numpy as np"
   ]
  },
  {
   "cell_type": "code",
   "execution_count": 3,
   "metadata": {},
   "outputs": [],
   "source": [
    "embedding_table = pd.read_csv(r\"C:\\Users\\carte\\OneDrive\\Desktop\\out (1).csv\", index_col=0, delimiter='|',\n",
    "                    converters={\n",
    "                        '1' : lambda x: np.array(x.removeprefix('[').removesuffix(']').split(','), dtype='float'),\n",
    "                        '2' : lambda x: np.array(x.removeprefix('[').removesuffix(']').split(','), dtype='float'),\n",
    "                        '3' : lambda x: np.array(x.removeprefix('[').removesuffix(']').split(','), dtype='float')\n",
    "                    })"
   ]
  },
  {
   "cell_type": "code",
   "execution_count": 17,
   "metadata": {},
   "outputs": [
    {
     "name": "stderr",
     "output_type": "stream",
     "text": [
      "C:\\Users\\carte\\AppData\\Local\\Temp\\ipykernel_17136\\2212953721.py:1: FutureWarning: Series.__getitem__ treating keys as positions is deprecated. In a future version, integer keys will always be treated as labels (consistent with DataFrame behavior). To access a value by position, use `ser.iloc[pos]`\n",
      "  len(embedding_table.loc['hanging'][1])\n"
     ]
    },
    {
     "data": {
      "text/html": [
       "<div>\n",
       "<style scoped>\n",
       "    .dataframe tbody tr th:only-of-type {\n",
       "        vertical-align: middle;\n",
       "    }\n",
       "\n",
       "    .dataframe tbody tr th {\n",
       "        vertical-align: top;\n",
       "    }\n",
       "\n",
       "    .dataframe thead th {\n",
       "        text-align: right;\n",
       "    }\n",
       "</style>\n",
       "<table border=\"1\" class=\"dataframe\">\n",
       "  <thead>\n",
       "    <tr style=\"text-align: right;\">\n",
       "      <th></th>\n",
       "      <th>1</th>\n",
       "      <th>2</th>\n",
       "      <th>3</th>\n",
       "    </tr>\n",
       "  </thead>\n",
       "  <tbody>\n",
       "    <tr>\n",
       "      <th>hanging</th>\n",
       "      <td>[-0.770799994468689, 1.1319999694824219, -2.53...</td>\n",
       "      <td>[-0.19269999861717224, 0.28299999237060547, -0...</td>\n",
       "      <td>[-0.09629999846220016, 0.14149999618530273, -0...</td>\n",
       "    </tr>\n",
       "    <tr>\n",
       "      <th>strategy</th>\n",
       "      <td>[-1.0144000053405762, 0.6033999919891357, 0.26...</td>\n",
       "      <td>[-0.25360000133514404, 0.1509000062942505, 0.0...</td>\n",
       "      <td>[-0.16910000145435333, 0.1005999967455864, 0.0...</td>\n",
       "    </tr>\n",
       "    <tr>\n",
       "      <th>slide</th>\n",
       "      <td>[-0.13220000267028809, -0.7401999831199646, -0...</td>\n",
       "      <td>[-0.04410000145435333, -0.2467000037431717, -0...</td>\n",
       "      <td>[-0.06610000133514404, -0.3700999915599823, -0...</td>\n",
       "    </tr>\n",
       "  </tbody>\n",
       "</table>\n",
       "</div>"
      ],
      "text/plain": [
       "                                                          1  \\\n",
       "hanging   [-0.770799994468689, 1.1319999694824219, -2.53...   \n",
       "strategy  [-1.0144000053405762, 0.6033999919891357, 0.26...   \n",
       "slide     [-0.13220000267028809, -0.7401999831199646, -0...   \n",
       "\n",
       "                                                          2  \\\n",
       "hanging   [-0.19269999861717224, 0.28299999237060547, -0...   \n",
       "strategy  [-0.25360000133514404, 0.1509000062942505, 0.0...   \n",
       "slide     [-0.04410000145435333, -0.2467000037431717, -0...   \n",
       "\n",
       "                                                          3  \n",
       "hanging   [-0.09629999846220016, 0.14149999618530273, -0...  \n",
       "strategy  [-0.16910000145435333, 0.1005999967455864, 0.0...  \n",
       "slide     [-0.06610000133514404, -0.3700999915599823, -0...  "
      ]
     },
     "execution_count": 17,
     "metadata": {},
     "output_type": "execute_result"
    }
   ],
   "source": [
    "len(embedding_table.loc['hanging'][1])\n",
    "embedding_table"
   ]
  },
  {
   "cell_type": "code",
   "execution_count": 19,
   "metadata": {},
   "outputs": [
    {
     "data": {
      "text/plain": [
       "array([ 1,  4,  2,  1, 12, 32])"
      ]
     },
     "execution_count": 19,
     "metadata": {},
     "output_type": "execute_result"
    }
   ],
   "source": [
    "a = np.array([1,4,2])\n",
    "b = np.array([1,12,32])\n",
    "np.concatenate([a, b])"
   ]
  },
  {
   "cell_type": "code",
   "execution_count": null,
   "metadata": {},
   "outputs": [
    {
     "ename": "",
     "evalue": "",
     "output_type": "error",
     "traceback": [
      "\u001b[1;31mThe Kernel crashed while executing code in the the current cell or a previous cell. Please review the code in the cell(s) to identify a possible cause of the failure. Click <a href='https://aka.ms/vscodeJupyterKernelCrash'>here</a> for more info. View Jupyter <a href='command:jupyter.viewOutput'>log</a> for further details."
     ]
    }
   ],
   "source": [
    "def algone(l):\n",
    "    if len(l) > 1:\n",
    "        left = []\n",
    "        right = []\n",
    "        for i in range(len(l)):\n",
    "            if i <= len(l):\n",
    "                left.append(l[i])\n",
    "            else:\n",
    "                right.append(l[i])\n",
    "        left = algone(left)\n",
    "        right = algone(right)\n",
    "        return left.extend(right)\n",
    "    return l\n",
    "\n",
    "algone([1, 4, 3,2 ,5 ,3])"
   ]
  },
  {
   "cell_type": "code",
   "execution_count": null,
   "metadata": {},
   "outputs": [],
   "source": []
  }
 ],
 "metadata": {
  "kernelspec": {
   "display_name": "Python 3",
   "language": "python",
   "name": "python3"
  },
  "language_info": {
   "codemirror_mode": {
    "name": "ipython",
    "version": 3
   },
   "file_extension": ".py",
   "mimetype": "text/x-python",
   "name": "python",
   "nbconvert_exporter": "python",
   "pygments_lexer": "ipython3",
   "version": "3.10.10"
  }
 },
 "nbformat": 4,
 "nbformat_minor": 2
}
