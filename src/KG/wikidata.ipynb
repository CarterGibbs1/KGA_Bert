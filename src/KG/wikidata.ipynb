{
 "cells": [
  {
   "cell_type": "code",
   "execution_count": null,
   "metadata": {},
   "outputs": [],
   "source": [
    "import nltk\n",
    "from wikidata.client import Client\n",
    "from wikidata.entity import Entity\n",
    "from collections import defaultdict, deque\n",
    "import requests, json\n",
    "nltk.download('punkt')\n",
    "\n",
    "MAX_LEVEL = 2"
   ]
  },
  {
   "cell_type": "code",
   "execution_count": null,
   "metadata": {},
   "outputs": [],
   "source": [
    "text = \"Home of Mark Zuckerberg is great! House\"\n",
    "def get_nouns(sentence):\n",
    "    tokens = nltk.word_tokenize(sentence)\n",
    "    tags = nltk.pos_tag(tokens)\n",
    "    retVal = []\n",
    "    i = 0\n",
    "    while i < len(tags):\n",
    "        key, tag = tags[i]\n",
    "        if 'NN' in tag:\n",
    "            current_noun = key\n",
    "            j = i + 1\n",
    "            while j < len(tags):\n",
    "                key_j, tag_j = tags[j]\n",
    "                if 'NN' in tag_j:\n",
    "                    current_noun = ' '.join([current_noun, key_j])\n",
    "                    j += 1\n",
    "                else:\n",
    "                    i = j - 1\n",
    "                    break\n",
    "            retVal.append(current_noun)\n",
    "            if j == len(tags):\n",
    "                return retVal          \n",
    "        i += 1\n",
    "    return retVal\n",
    "    \n",
    "print(get_nouns(text))"
   ]
  },
  {
   "cell_type": "code",
   "execution_count": null,
   "metadata": {},
   "outputs": [],
   "source": [
    "def get_wikidata_id(item):\n",
    "    try:\n",
    "        response = requests.get(f'https://en.wikipedia.org/w/api.php?action=query&prop=pageprops&titles={item}&format=json')\n",
    "        wikidata_id = list(json.loads(response.text)['query']['pages'].values())[0]['pageprops']['wikibase_item']\n",
    "        return wikidata_id\n",
    "    except:\n",
    "        return None\n"
   ]
  },
  {
   "cell_type": "code",
   "execution_count": null,
   "metadata": {},
   "outputs": [],
   "source": [
    "def bfs(id):\n",
    "    seen = set()\n",
    "    q = deque([(id, 0)])\n",
    "    client = Client()\n",
    "    retDict = defaultdict(list)\n",
    "    while q:\n",
    "        ent, level = q.popleft()\n",
    "        if ent in seen or level > MAX_LEVEL:\n",
    "            continue\n",
    "        retDict[level].append(ent)\n",
    "        seen.add(ent)\n",
    "        try:\n",
    "            e = client.get(ent if isinstance(ent, str) else ent.id).values()\n",
    "            entities = []\n",
    "            for ent in list(e)[:min(len(e), 20)]:\n",
    "                if isinstance(ent, Entity):\n",
    "                    entities.append(ent)\n",
    "            for entity in entities:\n",
    "                q.append((entity, level + 1))\n",
    "        except:\n",
    "            continue\n",
    "    return retDict"
   ]
  },
  {
   "cell_type": "code",
   "execution_count": null,
   "metadata": {},
   "outputs": [],
   "source": [
    "id = get_wikidata_id('Mark Zuckerberg')\n",
    "x = bfs(id)\n",
    "x"
   ]
  },
  {
   "cell_type": "code",
   "execution_count": null,
   "metadata": {},
   "outputs": [],
   "source": []
  },
  {
   "cell_type": "code",
   "execution_count": null,
   "metadata": {},
   "outputs": [],
   "source": []
  }
 ],
 "metadata": {
  "kernelspec": {
   "display_name": "Python 3",
   "language": "python",
   "name": "python3"
  },
  "language_info": {
   "codemirror_mode": {
    "name": "ipython",
    "version": 3
   },
   "file_extension": ".py",
   "mimetype": "text/x-python",
   "name": "python",
   "nbconvert_exporter": "python",
   "pygments_lexer": "ipython3",
   "version": "3.12.0"
  }
 },
 "nbformat": 4,
 "nbformat_minor": 2
}
