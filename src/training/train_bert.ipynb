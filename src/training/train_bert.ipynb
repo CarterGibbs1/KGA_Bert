{
 "cells": [
  {
   "cell_type": "markdown",
   "metadata": {},
   "source": [
    "This notebook is for fine-tuning BERT"
   ]
  },
  {
   "cell_type": "code",
   "execution_count": 1,
   "metadata": {},
   "outputs": [
    {
     "data": {
      "text/plain": [
       "'cpu'"
      ]
     },
     "execution_count": 1,
     "metadata": {},
     "output_type": "execute_result"
    }
   ],
   "source": [
    "# Imports\n",
    "import os, sys\n",
    "import numpy as np\n",
    "import pandas as pd\n",
    "from gc import collect\n",
    "from tqdm.notebook import tqdm\n",
    "\n",
    "\n",
    "import torch\n",
    "from torch import cuda\n",
    "from transformers import BertTokenizer, BertModel\n",
    "\n",
    "device = 'cuda' if cuda.is_available() else 'cpu'\n",
    "device"
   ]
  },
  {
   "cell_type": "code",
   "execution_count": 2,
   "metadata": {},
   "outputs": [
    {
     "data": {
      "text/plain": [
       "(67349, 872)"
      ]
     },
     "execution_count": 2,
     "metadata": {},
     "output_type": "execute_result"
    }
   ],
   "source": [
    "# Training Data\n",
    "\n",
    "data_train = pd.read_csv(r'D:\\SDS\\KGA_Bert\\data\\glue_data\\SST-2\\train.tsv', sep='\\t', header=0)\n",
    "data_dev = pd.read_csv(r'D:\\SDS\\KGA_Bert\\data\\glue_data\\SST-2\\dev.tsv', sep='\\t', header=0)\n",
    "data_train = data_train.sample(frac = 1, ignore_index=True)\n",
    "data_dev = data_dev.sample(frac = 1, ignore_index=True)\n",
    "data_dev[:5]\n",
    "len(data_train), len(data_dev)"
   ]
  },
  {
   "cell_type": "code",
   "execution_count": 3,
   "metadata": {},
   "outputs": [
    {
     "data": {
      "text/plain": [
       "268"
      ]
     },
     "execution_count": 3,
     "metadata": {},
     "output_type": "execute_result"
    }
   ],
   "source": [
    "MAX_LEN = len(max(data_train.sentence, key=len))\n",
    "MAX_LEN"
   ]
  },
  {
   "cell_type": "code",
   "execution_count": 4,
   "metadata": {},
   "outputs": [],
   "source": [
    "BATCH_SIZE = 16\n",
    "EPOCHS = 10\n",
    "LEARNING_RATE = 0.0001\n",
    "NUM_OUT = 1"
   ]
  },
  {
   "cell_type": "code",
   "execution_count": 5,
   "metadata": {},
   "outputs": [],
   "source": [
    "# Train/Test split\n",
    "train_data = pd.DataFrame({\n",
    "    'sentence' : data_train['sentence'].apply(str.strip),\n",
    "    'label' : data_train['label'].apply(int)\n",
    "}).reset_index()\n",
    "\n",
    "test_data = pd.DataFrame({\n",
    "    'sentence' : data_dev['sentence'].apply(str.strip),\n",
    "    'label' : data_dev['label'].apply(int)\n",
    "}).reset_index()"
   ]
  },
  {
   "cell_type": "code",
   "execution_count": 6,
   "metadata": {},
   "outputs": [],
   "source": [
    "from torch.utils.data import Dataset, DataLoader\n",
    "\n",
    "class CustomDataset(Dataset):\n",
    "    def __init__(self, dataset, tokenizer, max_size):\n",
    "        self.sentences = dataset['sentence']\n",
    "        self.labels = dataset['label']\n",
    "        self.tokenizer = tokenizer\n",
    "        self.max_size = max_size\n",
    "\n",
    "    def __len__(self):\n",
    "        return len(self.sentences)\n",
    "\n",
    "    def __getitem__(self, idx):\n",
    "        text = self.sentences[idx]\n",
    "        inputs = self.tokenizer.encode_plus(\n",
    "            text,\n",
    "            None,\n",
    "            add_special_tokens=True,\n",
    "            max_length=self.max_size,\n",
    "            pad_to_max_length=True,\n",
    "            truncation=True,\n",
    "            return_token_type_ids=True\n",
    "        )\n",
    "\n",
    "        return {'sentences' : torch.tensor(inputs['input_ids'], dtype=torch.long, device=device),\n",
    "                'mask' : torch.tensor(inputs['attention_mask'], dtype=torch.long, device=device),\n",
    "                'token_type_ids': torch.tensor(inputs[\"token_type_ids\"], dtype=torch.long, device=device),\n",
    "                'labels' : torch.tensor(self.labels[idx], dtype=torch.float, device=device)}"
   ]
  },
  {
   "cell_type": "code",
   "execution_count": 7,
   "metadata": {},
   "outputs": [],
   "source": [
    "class DefaultBERTClass(torch.nn.Module):\n",
    "\n",
    "    def __init__(self) -> None:\n",
    "        super(DefaultBERTClass, self).__init__()\n",
    "        \n",
    "        self.bert_layer = BertModel.from_pretrained(\n",
    "            \"bert-base-uncased\"\n",
    "            )\n",
    "        #self.dropout = torch.nn.Dropout(p=0.3)\n",
    "        self.hidd = torch.nn.Linear(self.bert_layer.config.hidden_size, NUM_OUT)\n",
    "        self.sig = torch.nn.Sigmoid()\n",
    "        \n",
    "\n",
    "    def forward(self, text, attention_mask, token_type_ids):\n",
    "        embeddings = self.bert_layer(text, attention_mask = attention_mask)\n",
    "        pooler = embeddings[0][:, 0]\n",
    "        #dropout = self.dropout(pooler)\n",
    "        hidden = self.hidd(pooler)\n",
    "        output = self.sig(hidden)\n",
    "        return output"
   ]
  },
  {
   "cell_type": "code",
   "execution_count": 8,
   "metadata": {},
   "outputs": [],
   "source": [
    "from sklearn.metrics import accuracy_score\n",
    "\n",
    "def loss_fn(outputs, targets):\n",
    "    return torch.nn.BCELoss()(outputs, targets)\n",
    "\n",
    "def train(model, optimizer, data_loader):\n",
    "    model.train()\n",
    "    for data in tqdm(data_loader):\n",
    "        inputs = data['sentences']\n",
    "        mask = data['mask']\n",
    "        token_type_ids = data['token_type_ids']\n",
    "        targets = data['labels'].unsqueeze(1)\n",
    "\n",
    "        #print(inputs, mask)\n",
    "\n",
    "        outputs = model(inputs, mask, token_type_ids)\n",
    "\n",
    "        #print(outputs, targets)\n",
    "\n",
    "        optimizer.zero_grad()\n",
    "        loss = loss_fn(outputs, targets)\n",
    "        #optimizer.zero_grad()\n",
    "        loss.backward()\n",
    "        optimizer.step()\n",
    "\n",
    "        # Memory optimization\n",
    "        del inputs, mask, token_type_ids, targets\n",
    "        collect()\n",
    "        with torch.cuda.device(device):\n",
    "            torch.cuda.empty_cache()\n",
    "\n",
    "    return loss\n",
    "\n",
    "def validation(model, data_loader):\n",
    "    model.eval()\n",
    "    fin_targets=[]\n",
    "    fin_outputs=[]\n",
    "    with torch.no_grad():\n",
    "        for data in tqdm(data_loader):\n",
    "            inputs = data['sentences']\n",
    "            mask = data['mask']\n",
    "            token_type_ids = data['token_type_ids']\n",
    "            targets = data['labels'].unsqueeze(1)\n",
    "\n",
    "            outputs = model(inputs, mask, token_type_ids)\n",
    "\n",
    "            del inputs, mask, token_type_ids\n",
    "            collect()\n",
    "            with torch.cuda.device(device):\n",
    "                torch.cuda.empty_cache()\n",
    "\n",
    "            fin_outputs.extend(outputs)\n",
    "            fin_targets.extend(targets)\n",
    "\n",
    "    return torch.stack(fin_outputs), torch.stack(fin_targets)\n",
    "\n",
    "def get_accuracy(guess, targs):\n",
    "    guesses = (guess >= 0.5).cpu().numpy()\n",
    "    targets = (targs >= 0.5).cpu().numpy()\n",
    "    return accuracy_score(guesses, targets)"
   ]
  },
  {
   "cell_type": "code",
   "execution_count": 9,
   "metadata": {},
   "outputs": [],
   "source": [
    "tokenizer = BertTokenizer.from_pretrained('bert-base-uncased')\n",
    "\n",
    "training_data = CustomDataset(train_data, tokenizer, MAX_LEN)\n",
    "training_loader = DataLoader(training_data, batch_size=BATCH_SIZE, shuffle=True)\n",
    "\n",
    "testing_data = CustomDataset(test_data, tokenizer, MAX_LEN)\n",
    "testing_loader = DataLoader(testing_data, batch_size=BATCH_SIZE, shuffle=False)"
   ]
  },
  {
   "cell_type": "code",
   "execution_count": 10,
   "metadata": {},
   "outputs": [],
   "source": [
    "from IPython.display import clear_output\n",
    "from matplotlib import pyplot as plt\n",
    "\n",
    "def live_plot(accuracies):\n",
    "    clear_output(wait=True)\n",
    "    plt.figure()\n",
    "    plt.xlim(0, EPOCHS)\n",
    "    plt.ylim(0, 1)\n",
    "    x= [float(i) for i in range(len(accuracies))]\n",
    "    y= [float(i) for i in accuracies]\n",
    "    \n",
    "    if len(x) > 1:\n",
    "        plt.plot(x,y)\n",
    "\n",
    "    plt.grid(True)\n",
    "    plt.xlabel('Epochs')\n",
    "    plt.ylabel('Accuracy')\n",
    "    plt.show()"
   ]
  },
  {
   "cell_type": "code",
   "execution_count": 11,
   "metadata": {},
   "outputs": [
    {
     "data": {
      "image/png": "[encoded data removed]",
      "text/plain": [
       "<Figure size 640x480 with 1 Axes>"
      ]
     },
     "metadata": {},
     "output_type": "display_data"
    },
    {
     "name": "stdout",
     "output_type": "stream",
     "text": [
      "accuracy on test set 0.89\n"
     ]
    },
    {
     "data": {
      "application/vnd.jupyter.widget-view+json": {
       "model_id": "82e24f7b05af4cc09786e0449369ae37",
       "version_major": 2,
       "version_minor": 0
      },
      "text/plain": [
       "  0%|          | 0/625 [00:00<?, ?it/s]"
      ]
     },
     "metadata": {},
     "output_type": "display_data"
    },
    {
     "name": "stderr",
     "output_type": "stream",
     "text": [
      "c:\\Users\\carte\\OneDrive\\Desktop\\Datascience\\SDS\\KGA_Bert\\kga\\Lib\\site-packages\\transformers\\tokenization_utils_base.py:2614: FutureWarning: The `pad_to_max_length` argument is deprecated and will be removed in a future version, use `padding=True` or `padding='longest'` to pad to the longest sequence in the batch, or use `padding='max_length'` to pad to a max length. In this case, you can give a specific length with `max_length` (e.g. `max_length=45`) or leave max_length to None to pad to the maximal input size of the model (e.g. 512 for Bert).\n",
      "  warnings.warn(\n"
     ]
    },
    {
     "ename": "KeyboardInterrupt",
     "evalue": "",
     "output_type": "error",
     "traceback": [
      "\u001b[1;31m---------------------------------------------------------------------------\u001b[0m",
      "\u001b[1;31mKeyboardInterrupt\u001b[0m                         Traceback (most recent call last)",
      "\u001b[1;32mc:\\Users\\carte\\OneDrive\\Desktop\\Datascience\\SDS\\KGA_Bert\\src\\training\\train_bert.ipynb Cell 12\u001b[0m line \u001b[0;36m9\n\u001b[0;32m      <a href='vscode-notebook-cell:/c%3A/Users/carte/OneDrive/Desktop/Datascience/SDS/KGA_Bert/src/training/train_bert.ipynb#X13sZmlsZQ%3D%3D?line=5'>6</a>\u001b[0m validation_accuracies \u001b[39m=\u001b[39m []\n\u001b[0;32m      <a href='vscode-notebook-cell:/c%3A/Users/carte/OneDrive/Desktop/Datascience/SDS/KGA_Bert/src/training/train_bert.ipynb#X13sZmlsZQ%3D%3D?line=7'>8</a>\u001b[0m \u001b[39mfor\u001b[39;00m epoch \u001b[39min\u001b[39;00m \u001b[39mrange\u001b[39m(EPOCHS):\n\u001b[1;32m----> <a href='vscode-notebook-cell:/c%3A/Users/carte/OneDrive/Desktop/Datascience/SDS/KGA_Bert/src/training/train_bert.ipynb#X13sZmlsZQ%3D%3D?line=8'>9</a>\u001b[0m     loss \u001b[39m=\u001b[39m train(model, optimizer, training_loader)\n\u001b[0;32m     <a href='vscode-notebook-cell:/c%3A/Users/carte/OneDrive/Desktop/Datascience/SDS/KGA_Bert/src/training/train_bert.ipynb#X13sZmlsZQ%3D%3D?line=9'>10</a>\u001b[0m     \u001b[39mprint\u001b[39m(\u001b[39mf\u001b[39m\u001b[39m'\u001b[39m\u001b[39mEpoch: \u001b[39m\u001b[39m{\u001b[39;00mepoch\u001b[39m}\u001b[39;00m\u001b[39m, Loss:  \u001b[39m\u001b[39m{\u001b[39;00mloss\u001b[39m.\u001b[39mitem()\u001b[39m}\u001b[39;00m\u001b[39m'\u001b[39m)\n\u001b[0;32m     <a href='vscode-notebook-cell:/c%3A/Users/carte/OneDrive/Desktop/Datascience/SDS/KGA_Bert/src/training/train_bert.ipynb#X13sZmlsZQ%3D%3D?line=10'>11</a>\u001b[0m     guess, targs \u001b[39m=\u001b[39m validation(model, testing_loader)\n",
      "\u001b[1;32mc:\\Users\\carte\\OneDrive\\Desktop\\Datascience\\SDS\\KGA_Bert\\src\\training\\train_bert.ipynb Cell 12\u001b[0m line \u001b[0;36m2\n\u001b[0;32m     <a href='vscode-notebook-cell:/c%3A/Users/carte/OneDrive/Desktop/Datascience/SDS/KGA_Bert/src/training/train_bert.ipynb#X13sZmlsZQ%3D%3D?line=26'>27</a>\u001b[0m     \u001b[39mdel\u001b[39;00m inputs, mask, token_type_ids, targets\n\u001b[0;32m     <a href='vscode-notebook-cell:/c%3A/Users/carte/OneDrive/Desktop/Datascience/SDS/KGA_Bert/src/training/train_bert.ipynb#X13sZmlsZQ%3D%3D?line=27'>28</a>\u001b[0m     collect()\n\u001b[1;32m---> <a href='vscode-notebook-cell:/c%3A/Users/carte/OneDrive/Desktop/Datascience/SDS/KGA_Bert/src/training/train_bert.ipynb#X13sZmlsZQ%3D%3D?line=28'>29</a>\u001b[0m     \u001b[39mwith\u001b[39;00m torch\u001b[39m.\u001b[39;49mcuda\u001b[39m.\u001b[39;49mdevice(device):\n\u001b[0;32m     <a href='vscode-notebook-cell:/c%3A/Users/carte/OneDrive/Desktop/Datascience/SDS/KGA_Bert/src/training/train_bert.ipynb#X13sZmlsZQ%3D%3D?line=29'>30</a>\u001b[0m         torch\u001b[39m.\u001b[39mcuda\u001b[39m.\u001b[39mempty_cache()\n\u001b[0;32m     <a href='vscode-notebook-cell:/c%3A/Users/carte/OneDrive/Desktop/Datascience/SDS/KGA_Bert/src/training/train_bert.ipynb#X13sZmlsZQ%3D%3D?line=31'>32</a>\u001b[0m \u001b[39mreturn\u001b[39;00m loss\n",
      "File \u001b[1;32mc:\\Users\\carte\\OneDrive\\Desktop\\Datascience\\SDS\\KGA_Bert\\kga\\Lib\\site-packages\\torch\\cuda\\__init__.py:365\u001b[0m, in \u001b[0;36mdevice.__init__\u001b[1;34m(self, device)\u001b[0m\n\u001b[0;32m    357\u001b[0m \u001b[39mclass\u001b[39;00m \u001b[39mdevice\u001b[39;00m:\n\u001b[0;32m    358\u001b[0m \u001b[39m    \u001b[39m\u001b[39mr\u001b[39m\u001b[39m\"\"\"Context-manager that changes the selected device.\u001b[39;00m\n\u001b[0;32m    359\u001b[0m \n\u001b[0;32m    360\u001b[0m \u001b[39m    Args:\u001b[39;00m\n\u001b[0;32m    361\u001b[0m \u001b[39m        device (torch.device or int): device index to select. It's a no-op if\u001b[39;00m\n\u001b[0;32m    362\u001b[0m \u001b[39m            this argument is a negative integer or ``None``.\u001b[39;00m\n\u001b[0;32m    363\u001b[0m \u001b[39m    \"\"\"\u001b[39;00m\n\u001b[1;32m--> 365\u001b[0m     \u001b[39mdef\u001b[39;00m \u001b[39m__init__\u001b[39m(\u001b[39mself\u001b[39m, device: Any):\n\u001b[0;32m    366\u001b[0m         \u001b[39mself\u001b[39m\u001b[39m.\u001b[39midx \u001b[39m=\u001b[39m _get_device_index(device, optional\u001b[39m=\u001b[39m\u001b[39mTrue\u001b[39;00m)\n\u001b[0;32m    367\u001b[0m         \u001b[39mself\u001b[39m\u001b[39m.\u001b[39mprev_idx \u001b[39m=\u001b[39m \u001b[39m-\u001b[39m\u001b[39m1\u001b[39m\n",
      "\u001b[1;31mKeyboardInterrupt\u001b[0m: "
     ]
    }
   ],
   "source": [
    "model = DefaultBERTClass()\n",
    "optimizer = torch.optim.SGD(params=model.parameters(), lr=LEARNING_RATE)\n",
    "\n",
    "model.to(device)\n",
    "\n",
    "validation_accuracies = []\n",
    "\n",
    "for epoch in range(EPOCHS):\n",
    "    loss = train(model, optimizer, training_loader)\n",
    "    print(f'Epoch: {epoch}, Loss:  {loss.item()}')\n",
    "    guess, targs = validation(model, testing_loader)\n",
    "\n",
    "    #print(guess, targs)\n",
    "    \n",
    "    accuracy = get_accuracy(guess, targs)\n",
    "    validation_accuracies.append(accuracy)\n",
    "\n",
    "    live_plot(validation_accuracies)\n",
    "\n",
    "    print('accuracy on test set {}'.format(accuracy))"
   ]
  },
  {
   "cell_type": "code",
   "execution_count": null,
   "metadata": {},
   "outputs": [],
   "source": []
  }
 ],
 "metadata": {
  "kernelspec": {
   "display_name": "Python 3",
   "language": "python",
   "name": "python3"
  },
  "language_info": {
   "codemirror_mode": {
    "name": "ipython",
    "version": 3
   },
   "file_extension": ".py",
   "mimetype": "text/x-python",
   "name": "python",
   "nbconvert_exporter": "python",
   "pygments_lexer": "ipython3",
   "version": "3.11.3"
  }
 },
 "nbformat": 4,
 "nbformat_minor": 2
}
